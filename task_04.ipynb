{
 "cells": [
  {
   "cell_type": "markdown",
   "metadata": {},
   "source": [
    "### Task_4.2\n",
    "Crop some part of two images & swap them"
   ]
  },
  {
   "cell_type": "code",
   "execution_count": 1,
   "metadata": {},
   "outputs": [],
   "source": [
    "# Import required libraries\n",
    "import cv2\n",
    "import numpy as np"
   ]
  },
  {
   "cell_type": "code",
   "execution_count": 2,
   "metadata": {},
   "outputs": [],
   "source": [
    "# Read Allu Arjun Image\n",
    "allu = cv2.imread(\"allu.jpg\")\n",
    "\n",
    "# Display Allu Arjun Image\n",
    "cv2.imshow(\"aaa\", allu)\n",
    "cv2.waitKey()\n",
    "cv2.destroyAllWindows()"
   ]
  },
  {
   "cell_type": "code",
   "execution_count": 3,
   "metadata": {},
   "outputs": [
    {
     "data": {
      "text/plain": [
       "(900, 1200, 3)"
      ]
     },
     "execution_count": 3,
     "metadata": {},
     "output_type": "execute_result"
    }
   ],
   "source": [
    "allu.shape"
   ]
  },
  {
   "cell_type": "code",
   "execution_count": 4,
   "metadata": {},
   "outputs": [],
   "source": [
    "# Cordinates of Allu Arjun Face\n",
    "ax1 = 475\n",
    "ay1 = 120\n",
    "ax2 = 710\n",
    "ay2 = 400\n",
    "\n",
    "# Crop Tom Cruise face\n",
    "alluFace = allu[ay1:ay2, ax1:ax2]\n",
    "\n",
    "# Display face\n",
    "cv2.imshow(\"aaa\", alluFace)\n",
    "cv2.waitKey()\n",
    "cv2.destroyAllWindows()"
   ]
  },
  {
   "cell_type": "code",
   "execution_count": 5,
   "metadata": {},
   "outputs": [],
   "source": [
    "# Read Ram Charan Image\n",
    "ram = cv2.imread(\"ram.jpg\")\n",
    "\n",
    "# Display Ram Charan Image\n",
    "cv2.imshow(\"rrr\", ram)\n",
    "cv2.waitKey()\n",
    "cv2.destroyAllWindows()"
   ]
  },
  {
   "cell_type": "code",
   "execution_count": 6,
   "metadata": {},
   "outputs": [
    {
     "data": {
      "text/plain": [
       "(512, 512, 3)"
      ]
     },
     "execution_count": 6,
     "metadata": {},
     "output_type": "execute_result"
    }
   ],
   "source": [
    "ram.shape"
   ]
  },
  {
   "cell_type": "code",
   "execution_count": 7,
   "metadata": {},
   "outputs": [],
   "source": [
    "# Cordinates of Ram Charan Face\n",
    "rx1 = 125\n",
    "ry1 = 90\n",
    "rx2 = 360\n",
    "ry2 = 370\n",
    "\n",
    "# Crop Ram Charan face\n",
    "ramFace = ram[ry1:ry2, rx1:rx2]\n",
    "\n",
    "# Display face\n",
    "cv2.imshow(\"rrr\", ramFace)\n",
    "cv2.waitKey()\n",
    "cv2.destroyAllWindows()"
   ]
  },
  {
   "cell_type": "code",
   "execution_count": 8,
   "metadata": {},
   "outputs": [],
   "source": [
    "# Swap the face of allu with ram\n",
    "allu = cv2.imread(\"allu.jpg\")\n",
    "allu[ay1:ay2, ax1:ax2] = ramFace\n",
    "\n",
    "cv2.imshow(\"swapped_to_ram\", allu)\n",
    "cv2.waitKey()\n",
    "cv2.destroyAllWindows()"
   ]
  },
  {
   "cell_type": "code",
   "execution_count": 9,
   "metadata": {},
   "outputs": [
    {
     "data": {
      "text/plain": [
       "(280, 235, 3)"
      ]
     },
     "execution_count": 9,
     "metadata": {},
     "output_type": "execute_result"
    }
   ],
   "source": [
    "ram[ry1:ry2, rx1:rx2].shape"
   ]
  },
  {
   "cell_type": "code",
   "execution_count": 10,
   "metadata": {},
   "outputs": [
    {
     "data": {
      "text/plain": [
       "(280, 235, 3)"
      ]
     },
     "execution_count": 10,
     "metadata": {},
     "output_type": "execute_result"
    }
   ],
   "source": [
    "allu[ay1:ay2, ax1:ax2].shape"
   ]
  },
  {
   "cell_type": "code",
   "execution_count": 11,
   "metadata": {},
   "outputs": [],
   "source": [
    "# Swap the face of ram with allu\n",
    "allu = cv2.imread(\"allu.jpg\")\n",
    "ram[ry1:ry2, rx1:rx2] = alluFace\n",
    "\n",
    "cv2.imshow(\"swapped_to_allu\", ram)\n",
    "cv2.waitKey()\n",
    "cv2.destroyAllWindows()"
   ]
  },
  {
   "cell_type": "code",
   "execution_count": null,
   "metadata": {},
   "outputs": [],
   "source": []
  },
  {
   "cell_type": "markdown",
   "metadata": {},
   "source": [
    "### Task_4.3\n",
    "Combine two image to make single image"
   ]
  },
  {
   "cell_type": "code",
   "execution_count": 12,
   "metadata": {},
   "outputs": [],
   "source": [
    "img_1 = cv2.imread(\"twitter_logo.png\")\n",
    "img_2 = cv2.imread(\"discord.png\")\n",
    "\n",
    "# Use numpy hstack function to combine\n",
    "combine = np.hstack( (img_1,img_2))\n",
    "\n",
    "# Show combined image\n",
    "cv2.imshow(\"combined\", combine)\n",
    "cv2.waitKey()\n",
    "cv2.destroyAllWindows()"
   ]
  },
  {
   "cell_type": "code",
   "execution_count": 13,
   "metadata": {},
   "outputs": [
    {
     "data": {
      "text/plain": [
       "(512, 512, 3)"
      ]
     },
     "execution_count": 13,
     "metadata": {},
     "output_type": "execute_result"
    }
   ],
   "source": [
    "img_1.shape"
   ]
  },
  {
   "cell_type": "code",
   "execution_count": 14,
   "metadata": {},
   "outputs": [
    {
     "data": {
      "text/plain": [
       "(512, 512, 3)"
      ]
     },
     "execution_count": 14,
     "metadata": {},
     "output_type": "execute_result"
    }
   ],
   "source": [
    "img_2.shape"
   ]
  },
  {
   "cell_type": "code",
   "execution_count": null,
   "metadata": {},
   "outputs": [],
   "source": []
  }
 ],
 "metadata": {
  "kernelspec": {
   "display_name": "Python 3",
   "language": "python",
   "name": "python3"
  },
  "language_info": {
   "codemirror_mode": {
    "name": "ipython",
    "version": 3
   },
   "file_extension": ".py",
   "mimetype": "text/x-python",
   "name": "python",
   "nbconvert_exporter": "python",
   "pygments_lexer": "ipython3",
   "version": "3.8.8"
  }
 },
 "nbformat": 4,
 "nbformat_minor": 4
}
